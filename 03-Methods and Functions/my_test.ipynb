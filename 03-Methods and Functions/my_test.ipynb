{
 "cells": [
  {
   "cell_type": "code",
   "execution_count": 12,
   "metadata": {},
   "outputs": [
    {
     "data": {
      "text/plain": [
       "[4, 6, 22]"
      ]
     },
     "execution_count": 12,
     "metadata": {},
     "output_type": "execute_result"
    }
   ],
   "source": [
    "def check_even_nums(num_list):\n",
    "    even_nums = []\n",
    "\n",
    "    for num in num_list:\n",
    "        if num % 2 == 0:\n",
    "            even_nums.append(num)\n",
    "        else:\n",
    "            pass\n",
    "\n",
    "    if len(even_nums) > 0:\n",
    "        return even_nums\n",
    "    else:\n",
    "        return \"No even nums here!\"\n",
    "\n",
    "check_even_nums([1,9, 4, 6, 7, 21, 22])"
   ]
  },
  {
   "cell_type": "code",
   "execution_count": 28,
   "metadata": {},
   "outputs": [
    {
     "name": "stdout",
     "output_type": "stream",
     "text": [
      "Cassie is the employee of the month!\n"
     ]
    }
   ],
   "source": [
    "work_hours = work_hours = [('Abby',100),('Billy',400),('Cassie',800)]\n",
    "\n",
    "def employee_check(work_hours):\n",
    "    # Set some max value to intially beat, like zero hours\n",
    "    current_max = 0\n",
    "    # Set some empty value before the loop\n",
    "    employee_of_month = ''\n",
    "\n",
    "    for employee, hours in work_hours:\n",
    "        if hours > current_max:\n",
    "            current_max = hours\n",
    "            employee_of_month = employee\n",
    "        else:\n",
    "            pass\n",
    "\n",
    "    return (employee_of_month, current_max)\n",
    "\n",
    "\n",
    "name, hours = employee_check(work_hours)\n",
    "\n",
    "print(f\"{name} is the employee of the month!\")"
   ]
  },
  {
   "cell_type": "code",
   "execution_count": 55,
   "metadata": {},
   "outputs": [
    {
     "name": "stdout",
     "output_type": "stream",
     "text": [
      "[' ', 'O', ' ']\n",
      "YESSS\n"
     ]
    }
   ],
   "source": [
    "from random import shuffle\n",
    "\n",
    "def shuffle_cards(cards):\n",
    "    shuffle(cards)\n",
    "    #print(cards)\n",
    "    return cards\n",
    "\n",
    "def guess_card():\n",
    "\n",
    "    guess = ''\n",
    "\n",
    "    while guess not in ['1', '2', '3']:\n",
    "        guess = input(\"Choose a number between 1, 2, 3\")\n",
    "\n",
    "    return int(guess)\n",
    "\n",
    "def check_guess(list, guess):\n",
    "    if list[guess - 1] == 'O':\n",
    "        print(\"YESSS\")\n",
    "    \n",
    "    else:\n",
    "        print(\"TRY AGAIN\")\n",
    "\n",
    "\n",
    "three_cards = [' ', 'O', ' ']\n",
    "\n",
    "shuffled_cards = shuffle_cards(three_cards)\n",
    "\n",
    "players_guess = guess_card()\n",
    "\n",
    "result = check_guess(shuffled_cards, players_guess)\n",
    "\n",
    "result\n"
   ]
  },
  {
   "cell_type": "code",
   "execution_count": 60,
   "metadata": {},
   "outputs": [
    {
     "data": {
      "text/plain": [
       "dict"
      ]
     },
     "execution_count": 60,
     "metadata": {},
     "output_type": "execute_result"
    }
   ],
   "source": [
    "def myfunc(*args):\n",
    "    return args\n",
    "\n",
    "type(myfunc(1,2,3))\n",
    "\n",
    "def myfunc2(**kwargs):\n",
    "    return kwargs\n",
    "\n",
    "type(myfunc2(fruit= \"Apple\"))"
   ]
  },
  {
   "cell_type": "code",
   "execution_count": 75,
   "metadata": {},
   "outputs": [
    {
     "data": {
      "text/plain": [
       "'aSdAsD'"
      ]
     },
     "execution_count": 75,
     "metadata": {},
     "output_type": "execute_result"
    }
   ],
   "source": [
    "def mytest(*args):\n",
    "    return [item for item in args if item % 2 == 0]\n",
    "\n",
    "def myskyline(x):\n",
    "    out = []\n",
    "\n",
    "    for i in range(len(x)):\n",
    "        if i % 2 == 0:\n",
    "            out.append(x[i].lower())\n",
    "        else:\n",
    "            out.append(x[i].upper())\n",
    "\n",
    "    return ''.join(out)\n",
    "    \n",
    "\n",
    "myskyline(\"asdasd\")\n",
    "\n",
    "    "
   ]
  }
 ],
 "metadata": {
  "kernelspec": {
   "display_name": "Python 3",
   "language": "python",
   "name": "python3"
  },
  "language_info": {
   "codemirror_mode": {
    "name": "ipython",
    "version": 3
   },
   "file_extension": ".py",
   "mimetype": "text/x-python",
   "name": "python",
   "nbconvert_exporter": "python",
   "pygments_lexer": "ipython3",
   "version": "3.11.0"
  }
 },
 "nbformat": 4,
 "nbformat_minor": 2
}
